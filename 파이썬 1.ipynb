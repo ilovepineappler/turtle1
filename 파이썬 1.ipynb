{
 "cells": [
  {
   "cell_type": "markdown",
   "metadata": {},
   "source": [
    "\n",
    "# 파이썬 1\n",
    "\n",
    "* 파이썬을 사용하면 안되는 경우 \n",
    "\n",
    "   1. 속도가 빨라야 할 때 \n",
    "   2. 멀티 쓰레드를 사용 하는 경우 \n",
    "   \n",
    "\n",
    "* 파이썬 설치 명령어 \n",
    "\n",
    "    pip install \n",
    "    \n",
    "\n",
    "* 파이썬 쉘 실행 \n",
    "\n",
    "\n",
    "    cd C:\\Python27\n",
    "    python\n",
    "    아이 파이썬 쉘 실행 \n",
    "    cd C:\\Python27\\Scripts\n",
    "    ipython\n",
    "\n",
    "```탐색기에서 C:\\Python27\\Scripts\\jupyter-notebook.exe의 바로가기 만들기\n",
    "바탕화면에 jupyter-notebook.exe의 바로가기를 이동하고\n",
    "속성에서 시작 위치를 사용자의 작업 디렉터리로 설정```\n",
    "\n",
    "%run 파일 이름 \n",
    "\n",
    "%pwd 파일 위치 확인 \n",
    "\n",
    "!명령어 \n",
    "\n",
    "\n",
    "`모듈- 네임스페이스`\n",
    "\n",
    "*this text will be *\n",
    "_this also\n",
    "**this\n",
    "_this willbe\n",
    "*you **can** combine*\n",
    "1. item 1\n",
    "2. item 2\n",
    "3. item 3\n",
    "    * item 3a\n",
    "    * item 3b\n",
    "* item1\n",
    "* item2\n",
    "    * item 2a    \n",
    " "
   ]
  },
  {
   "cell_type": "markdown",
   "metadata": {},
   "source": [
    "교수님이 말씀하시길 코딩 하기 좋은 날이로구나 \n",
    "--------------------------------------------\n",
    "a | b\n",
    "------------ | -------------\n",
    "a | b\n",
    "a | b\n",
    "\n",
    "```파이썬\n",
    "\n",
    "`파이썬`"
   ]
  },
  {
   "cell_type": "code",
   "execution_count": null,
   "metadata": {},
   "outputs": [],
   "source": [
    "# %load a\n",
    "def f(x,y,z):\n",
    "    return (x+y)/z\n",
    "a=5\n",
    "b=6\n",
    "c=7.5\n",
    "\n",
    "result =f(a,b,c)\n"
   ]
  },
  {
   "cell_type": "code",
   "execution_count": null,
   "metadata": {},
   "outputs": [],
   "source": []
  },
  {
   "cell_type": "code",
   "execution_count": null,
   "metadata": {},
   "outputs": [],
   "source": [
    "%md day1"
   ]
  },
  {
   "cell_type": "code",
   "execution_count": 6,
   "metadata": {},
   "outputs": [
    {
     "name": "stdout",
     "output_type": "stream",
     "text": [
      "win32\n"
     ]
    }
   ],
   "source": [
    "import sys,os\n",
    "print (sys.platform)"
   ]
  },
  {
   "cell_type": "code",
   "execution_count": 8,
   "metadata": {},
   "outputs": [
    {
     "name": "stdout",
     "output_type": "stream",
     "text": [
      "1013\n"
     ]
    }
   ],
   "source": [
    "from sys import api_version\n",
    "from os import *\n",
    "print (api_version)"
   ]
  },
  {
   "cell_type": "code",
   "execution_count": 14,
   "metadata": {},
   "outputs": [
    {
     "name": "stdout",
     "output_type": "stream",
     "text": [
      "1.7320508075688772\n"
     ]
    }
   ],
   "source": [
    "import numpy.linalg as peter\n",
    "print (peter.norm([1,1,1]))"
   ]
  },
  {
   "cell_type": "code",
   "execution_count": 19,
   "metadata": {},
   "outputs": [
    {
     "data": {
      "text/plain": [
       "1"
      ]
     },
     "execution_count": 19,
     "metadata": {},
     "output_type": "execute_result"
    }
   ],
   "source": [
    "a.f(2,3,4)"
   ]
  },
  {
   "cell_type": "code",
   "execution_count": 22,
   "metadata": {},
   "outputs": [
    {
     "name": "stdout",
     "output_type": "stream",
     "text": [
      "(2.5, <type 'float'>)\n"
     ]
    }
   ],
   "source": [
    "f= 2.5\n",
    "print(f,type(f))"
   ]
  },
  {
   "cell_type": "code",
   "execution_count": 23,
   "metadata": {},
   "outputs": [
    {
     "name": "stdout",
     "output_type": "stream",
     "text": [
      "('word', <type 'str'>)\n"
     ]
    }
   ],
   "source": [
    "f='word'\n",
    "print(f,type(f))"
   ]
  },
  {
   "cell_type": "code",
   "execution_count": 24,
   "metadata": {},
   "outputs": [
    {
     "ename": "TypeError",
     "evalue": "unsupported operand type(s) for +: 'float' and 'str'",
     "output_type": "error",
     "traceback": [
      "\u001b[1;31m---------------------------------------------------------------------------\u001b[0m",
      "\u001b[1;31mTypeError\u001b[0m                                 Traceback (most recent call last)",
      "\u001b[1;32m<ipython-input-24-0262767787c5>\u001b[0m in \u001b[0;36m<module>\u001b[1;34m()\u001b[0m\n\u001b[1;32m----> 1\u001b[1;33m \u001b[0mi\u001b[0m \u001b[1;33m=\u001b[0m\u001b[1;36m2.4\u001b[0m \u001b[1;33m+\u001b[0m\u001b[1;34m'word'\u001b[0m\u001b[1;33m\u001b[0m\u001b[0m\n\u001b[0m",
      "\u001b[1;31mTypeError\u001b[0m: unsupported operand type(s) for +: 'float' and 'str'"
     ]
    }
   ],
   "source": [
    "i =2.4 +'word'"
   ]
  },
  {
   "cell_type": "code",
   "execution_count": 36,
   "metadata": {},
   "outputs": [
    {
     "name": "stdout",
     "output_type": "stream",
     "text": [
      "<type 'long'>\n",
      "18446744073709551616\n"
     ]
    }
   ],
   "source": [
    "j = 2**64\n",
    "print(type(j))\n",
    "print(j)"
   ]
  },
  {
   "cell_type": "code",
   "execution_count": 35,
   "metadata": {},
   "outputs": [
    {
     "name": "stdout",
     "output_type": "stream",
     "text": [
      "<type 'complex'>\n"
     ]
    }
   ],
   "source": [
    "c = 2 + 3j\n",
    "print(type(c))"
   ]
  },
  {
   "cell_type": "code",
   "execution_count": 37,
   "metadata": {},
   "outputs": [
    {
     "name": "stdout",
     "output_type": "stream",
     "text": [
      "(0.1, <type 'float'>)\n"
     ]
    }
   ],
   "source": [
    "x=1/10.0\n",
    "print(x,type((x)))"
   ]
  },
  {
   "cell_type": "code",
   "execution_count": 39,
   "metadata": {},
   "outputs": [
    {
     "name": "stdout",
     "output_type": "stream",
     "text": [
      "(1.0, <type 'float'>)\n"
     ]
    }
   ],
   "source": [
    "y=1%2.0\n",
    "print(y,type(y))"
   ]
  },
  {
   "cell_type": "code",
   "execution_count": 41,
   "metadata": {},
   "outputs": [
    {
     "ename": "IndentationError",
     "evalue": "expected an indented block (<ipython-input-41-7498d4ce1c71>, line 2)",
     "output_type": "error",
     "traceback": [
      "\u001b[1;36m  File \u001b[1;32m\"<ipython-input-41-7498d4ce1c71>\"\u001b[1;36m, line \u001b[1;32m2\u001b[0m\n\u001b[1;33m    a=1; b=2; c=3;\u001b[0m\n\u001b[1;37m    ^\u001b[0m\n\u001b[1;31mIndentationError\u001b[0m\u001b[1;31m:\u001b[0m expected an indented block\n"
     ]
    }
   ],
   "source": [
    "def apple(a,b,c):\n",
    "a=1; b=2; c=3;\n",
    "y=(-b+(b**2-4*a*c)**1/2)/(2*a)\n",
    "z=(-b-(b**2-4*a*c)**1/2)/(2*a)\n",
    "return y,z\n",
    "\n"
   ]
  },
  {
   "cell_type": "code",
   "execution_count": 53,
   "metadata": {},
   "outputs": [
    {
     "name": "stdout",
     "output_type": "stream",
     "text": [
      "(3, 'a')\n",
      "(4, 'b')\n",
      "(5, 'c')\n",
      "(6, 'd')\n",
      "(7, 'e')\n"
     ]
    }
   ],
   "source": [
    "lst=['a','b','c','d','e']\n",
    "for i,j in enumerate(lst,3):\n",
    "    print(i,j)"
   ]
  },
  {
   "cell_type": "code",
   "execution_count": 75,
   "metadata": {},
   "outputs": [
    {
     "data": {
      "text/plain": [
       "(2.0, -1.0)"
      ]
     },
     "execution_count": 75,
     "metadata": {},
     "output_type": "execute_result"
    }
   ],
   "source": [
    "reload(sqrt)\n",
    "import sqrt\n",
    "sqrt.sqrt(1,-1,-2)"
   ]
  },
  {
   "cell_type": "code",
   "execution_count": 76,
   "metadata": {},
   "outputs": [
    {
     "name": "stdout",
     "output_type": "stream",
     "text": [
      "(2.0, -1.0)\n",
      "(3.0, -3.0)\n",
      "(3.0, -2.0)\n"
     ]
    }
   ],
   "source": [
    "lst=[[1,-1,-2],[1,0,-9],[1,-1,-6]]\n",
    "for a,b,c in lst:\n",
    "    print(sqrt.sqrt(a,b,c))"
   ]
  },
  {
   "cell_type": "code",
   "execution_count": 80,
   "metadata": {},
   "outputs": [
    {
     "ename": "SyntaxError",
     "evalue": "invalid syntax (<ipython-input-80-f2674728c187>, line 3)",
     "output_type": "error",
     "traceback": [
      "\u001b[1;36m  File \u001b[1;32m\"<ipython-input-80-f2674728c187>\"\u001b[1;36m, line \u001b[1;32m3\u001b[0m\n\u001b[1;33m    *파이썬을 사용하면 안되는 경우\u001b[0m\n\u001b[1;37m    ^\u001b[0m\n\u001b[1;31mSyntaxError\u001b[0m\u001b[1;31m:\u001b[0m invalid syntax\n"
     ]
    }
   ],
   "source": []
  },
  {
   "cell_type": "code",
   "execution_count": 82,
   "metadata": {},
   "outputs": [
    {
     "ename": "SyntaxError",
     "evalue": "invalid syntax (<ipython-input-82-f2674728c187>, line 3)",
     "output_type": "error",
     "traceback": [
      "\u001b[1;36m  File \u001b[1;32m\"<ipython-input-82-f2674728c187>\"\u001b[1;36m, line \u001b[1;32m3\u001b[0m\n\u001b[1;33m    *파이썬을 사용하면 안되는 경우\u001b[0m\n\u001b[1;37m    ^\u001b[0m\n\u001b[1;31mSyntaxError\u001b[0m\u001b[1;31m:\u001b[0m invalid syntax\n"
     ]
    }
   ],
   "source": []
  },
  {
   "cell_type": "code",
   "execution_count": 86,
   "metadata": {},
   "outputs": [
    {
     "ename": "SyntaxError",
     "evalue": "invalid syntax (<ipython-input-86-f2674728c187>, line 3)",
     "output_type": "error",
     "traceback": [
      "\u001b[1;36m  File \u001b[1;32m\"<ipython-input-86-f2674728c187>\"\u001b[1;36m, line \u001b[1;32m3\u001b[0m\n\u001b[1;33m    *파이썬을 사용하면 안되는 경우\u001b[0m\n\u001b[1;37m    ^\u001b[0m\n\u001b[1;31mSyntaxError\u001b[0m\u001b[1;31m:\u001b[0m invalid syntax\n"
     ]
    }
   ],
   "source": []
  },
  {
   "cell_type": "code",
   "execution_count": null,
   "metadata": {},
   "outputs": [],
   "source": []
  }
 ],
 "metadata": {
  "kernelspec": {
   "display_name": "Python 2",
   "language": "python",
   "name": "python2"
  },
  "language_info": {
   "codemirror_mode": {
    "name": "ipython",
    "version": 2
   },
   "file_extension": ".py",
   "mimetype": "text/x-python",
   "name": "python",
   "nbconvert_exporter": "python",
   "pygments_lexer": "ipython2",
   "version": "2.7.14"
  }
 },
 "nbformat": 4,
 "nbformat_minor": 2
}
