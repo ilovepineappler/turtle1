{
 "cells": [
  {
   "cell_type": "code",
   "execution_count": 1,
   "metadata": {},
   "outputs": [
    {
     "ename": "SyntaxError",
     "evalue": "invalid syntax (<ipython-input-1-0f3ed01367dc>, line 1)",
     "output_type": "error",
     "traceback": [
      "\u001b[1;36m  File \u001b[1;32m\"<ipython-input-1-0f3ed01367dc>\"\u001b[1;36m, line \u001b[1;32m1\u001b[0m\n\u001b[1;33m    pdb는 Python 프로그램용 대화 모드 디버거\u001b[0m\n\u001b[1;37m       ^\u001b[0m\n\u001b[1;31mSyntaxError\u001b[0m\u001b[1;31m:\u001b[0m invalid syntax\n"
     ]
    }
   ],
   "source": [
    "pdb는 Python 프로그램용 대화 모드 디버거\n",
    "pdb를 이용하면 프로그램 실행 도중의 변수값과 오류 발생 시 원인 등을 조사할 수 있음\n",
    "\n",
    "\n",
    "\n",
    "\n",
    "h(elp)[command]\t도움말 명령어. command를 지정하지 않으면 이용 가능한 명령어의 리스트를 표시한다.\n",
    "w(here)\t스택 트레이스(stack trace)를 출력한다.\n",
    "n(ext)\t다음 행으로 넘어간다(다음 행 실행).\n",
    "l(ist)[first[,last]]\t지정한 범위의 소스 코드를 표시한다. 지정하지 않으면 현재 위치 주위 11행을 표시한다.\n",
    "c(ont(inue))\t중간점(break point)에 도달할 때까지 실행한다.\n",
    "q(uit)\t디버거를 종료한다.\n",
    "\n",
    "\n",
    "import pdb\n",
    "\n",
    "def add(a, b):\n",
    "    pdb.set_trace()\n",
    "    return a + b\n",
    "pdb.set_trace 중단 점 역할 \n",
    "\n",
    "\n",
    "\n",
    "PYTHON의 대화 모드에서 디버깅하기\n",
    "대화 모드에서 디버깅 모드로 전환하기\n",
    ">>> import pdb\n",
    ">>> import sample_pdb  # 디버깅 대상 스크립트(모듈)을 import한다.\n",
    ">>> pdb.run(sample_pdb.main())  # pdb.run()에 디버깅 대상을 넘김다.\n",
    "> /path/sample_pdb.py(5)add()\n",
    "-> return a + b\n",
    "(Pdb)"
   ]
  },
  {
   "cell_type": "code",
   "execution_count": 3,
   "metadata": {},
   "outputs": [
    {
     "name": "stdout",
     "output_type": "stream",
     "text": [
      "Automatic pdb calling has been turned ON\n"
     ]
    }
   ],
   "source": [
    "%pdbuuu"
   ]
  }
 ],
 "metadata": {
  "kernelspec": {
   "display_name": "Python 2",
   "language": "python",
   "name": "python2"
  },
  "language_info": {
   "codemirror_mode": {
    "name": "ipython",
    "version": 2
   },
   "file_extension": ".py",
   "mimetype": "text/x-python",
   "name": "python",
   "nbconvert_exporter": "python",
   "pygments_lexer": "ipython2",
   "version": "2.7.14"
  }
 },
 "nbformat": 4,
 "nbformat_minor": 2
}
